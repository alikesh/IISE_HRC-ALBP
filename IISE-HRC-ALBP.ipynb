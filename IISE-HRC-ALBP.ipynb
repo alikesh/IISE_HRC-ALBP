{
 "cells": [
  {
   "cell_type": "code",
   "execution_count": 1,
   "id": "fd69183e",
   "metadata": {},
   "outputs": [],
   "source": [
    "from pyomo.environ import *\n",
    "import pandas as pd"
   ]
  },
  {
   "cell_type": "code",
   "execution_count": 2,
   "id": "05e9eb9c",
   "metadata": {},
   "outputs": [],
   "source": [
    "# create the model \n",
    "model = AbstractModel()\n",
    "\n",
    "# declare sets\n",
    "model.I = Param(mutable=True, default=7)\n",
    "model.H = Param(mutable=True, default=2)\n",
    "model.C = Param(mutable=True, default=1)\n",
    "model.R = Param(default=model.C+model.H)\n",
    "model.S = Param(mutable=True, default=2)\n",
    "\n",
    "model.i = RangeSet(1, model.I)I\n",
    "model.j = Set(initialize=model.i)\n",
    "model.h = RangeSet(1,model.H)\n",
    "model.c = RangeSet(model.H+1,model.H+model.C)\n",
    "model.r = model.h | model.c\n",
    "model.s = RangeSet(1,model.S)\n",
    "\n",
    "# declare parameters\n",
    "model.T = Param(model.i, model.r, within=Reals, mutable=True)\n",
    "#model.Tc = Param(model.i, model.h, model.c, within=Reals, mutable=True)\n",
    "model.Tc = Param(model.h, model.c, within=Reals, mutable=True)\n",
    "model.TP = Param(model.i, model.j, within=Binary, mutable=True)\n",
    "model.PW = Param(model.i, mutable=True)\n",
    "model.PWC = Param(model.h, mutable=True)\n",
    "model.bigM = Param(default=250)\n",
    "\n",
    "# declare variables\n",
    "model.x = Var(model.i, model.r, model.s, within=Binary)\n",
    "model.w = Var(model.i, model.j, model.r, within=Binary)\n",
    "model.z = Var(model.i, model.h, model.c, model.s, within=Binary)\n",
    "model.y = Var(model.r, model.s, within=Binary)\n",
    "model.st = Var(model.i, within=NonNegativeReals)\n",
    "model.ft = Var(model.i, within=NonNegativeReals)\n",
    "model.ct = Var(within=NonNegativeReals)\n",
    "model.mtpw = Var(within=NonNegativeReals)"
   ]
  },
  {
   "cell_type": "code",
   "execution_count": 3,
   "id": "c1cd3150",
   "metadata": {},
   "outputs": [],
   "source": [
    "# declare constraints\n",
    "def C1_rule(model, i, j):\n",
    "    if value(model.TP[i,j]) == 1:\n",
    "        return model.st[j] >= model.ft[i]\n",
    "    else:\n",
    "        return Constraint.Skip\n",
    "model.C1 = Constraint(model.i, model.j, rule=C1_rule)\n",
    "\n",
    "def C2_rule(model, i, j):\n",
    "    if i != j:\n",
    "        return model.st[j] >= model.ft[i] - model.bigM*(1-sum(model.w[i,j,r] for r in model.r))\n",
    "    else:\n",
    "        return Constraint.Skip\n",
    "model.C2 = Constraint(model.i, model.j, rule=C2_rule)\n",
    "\n",
    "def C3a_rule(model, i):\n",
    "    F1 = sum(model.x[i,r,s]*model.T[i,r] for r in model.r for s in model.s)\n",
    "    F2 = sum(model.z[i,h,c,s] for h in model.h for c in model.c for s in model.s)\n",
    "    return model.ft[i] >= model.st[i] + F1 - model.bigM * F2\n",
    "model.C3a = Constraint(model.i, rule=C3a_rule)\n",
    "\n",
    "def C3b_rule(model, i):\n",
    "#    F = sum(model.z[i,h,c,s]*model.Tc[i,h,c] for h in model.h for c in model.c for s in model.s)\n",
    "    F = sum(model.z[i,h,c,s]*model.Tc[h,c] for h in model.h for c in model.c for s in model.s)\n",
    "    return model.ft[i] >= model.st[i] + F\n",
    "model.C3b = Constraint(model.i, rule=C3b_rule)\n",
    "\n",
    "def C4_rule(model, i, j, s):\n",
    "    F1 = sum(model.x[i,r,s] for r in model.r)\n",
    "    F2 = sum(model.z[i,h,c,s] for h in model.h for c in model.c)\n",
    "    F3 = sum(model.x[j,r,s] for r in model.r)\n",
    "    F4 = sum(model.z[j,h,c,s] for h in model.h for c in model.c)\n",
    "    return model.ct >= model.ft[i] - model.st[j] - model.bigM * (1 - (F1 - F2)) - model.bigM * (1 - (F3 - F4)) \n",
    "model.C4 = Constraint(model.i, model.j, model.s, rule=C4_rule)\n",
    "\n",
    "def C5_rule(model, s):\n",
    "    F1 = sum(model.x[i,h,s]*model.PW[i] for i in model.i for h in model.h)\n",
    "    F2 = sum(model.z[i,h,c,s]*model.PW[i] for i in model.i for h in model.h for c in model.c)\n",
    "    return F1 - F2 <= model.mtpw\n",
    "#model.C5 = Constraint(model.s, rule=C5_rule)\n",
    "\n",
    "def C6_rule(model, i):\n",
    "    F1 = sum(model.x[i,r,s] for r in model.r for s in model.s)\n",
    "    F2 = sum(model.z[i,h,c,s] for h in model.h for c in model.c for s in model.s) \n",
    "    return F1 - F2 == 1 \n",
    "model.C6 = Constraint(model.i, rule=C6_rule)\n",
    "\n",
    "def C61_rule(model, i, h, c, s):\n",
    "    return model.z[i,h,c,s] <= (model.x[i,h,s]+model.x[i,c,s])/2\n",
    "model.C61 = Constraint(model.i, model.h, model.c, model.s, rule=C61_rule)\n",
    "\n",
    "def C7_rule(model, i, r, s):\n",
    "    return model.x[i,r,s] <= model.y[r,s]\n",
    "model.C7 = Constraint(model.i, model.r, model.s, rule=C7_rule)\n",
    "\n",
    "def C8_rule(model, r):\n",
    "    return sum(model.y[r,s] for s in model.s) <= 1\n",
    "model.C8 = Constraint(model.r, rule=C8_rule)\n",
    "\n",
    "def C9_rule(model, s):\n",
    "    return sum(model.y[h,s] for h in model.h) == 1\n",
    "model.C9 = Constraint(model.s, rule=C9_rule)\n",
    "\n",
    "def C10_rule(model, s):\n",
    "    return sum(model.y[c,s] for c in model.c) <= 1\n",
    "model.C10 = Constraint(model.s, rule=C10_rule)\n",
    "\n",
    "def C11_rule(model, i, j):\n",
    "    if value(model.TP[i,j]) == 1:\n",
    "        F1 = sum(model.x[i,r,s]*s for r in model.r for s in model.s)\n",
    "        F2 = sum(model.z[i,h,c,s]*s for h in model.h for c in model.c for s in model.s)\n",
    "        F3 = sum(model.x[j,r,s]*s for r in model.r for s in model.s)\n",
    "        F4 = sum(model.z[j,h,c,s]*s for h in model.h for c in model.c for s in model.s)\n",
    "        return F1 - F2 <= F3 - F4\n",
    "    else:\n",
    "        return Constraint.Skip\n",
    "model.C11 = Constraint(model.i, model.j, rule=C11_rule)\n",
    "\n",
    "def C12_rule(model, r):\n",
    "    F1 = sum(model.w[i,j,r] for i in model.i for j in model.j)\n",
    "    F2 = sum(model.x[i,r,s] for i in model.i for s in model.s)\n",
    "    return F1 == F2 - 1\n",
    "model.C12 = Constraint(model.r, rule=C12_rule)\n",
    "\n",
    "def C13_rule(model, i, j, r):\n",
    "    return model.w[i,j,r] <= (sum(model.x[i,r,s] for s in model.s) + sum(model.x[j,r,s] for s in model.s))/2\n",
    "model.C13 = Constraint(model.i, model.j, model.r, rule=C13_rule)\n",
    "\n",
    "def C14_rule(model, i, r):\n",
    "    return model.w[i,i,r] == 0\n",
    "model.C14 = Constraint(model.i, model.r, rule=C14_rule)\n",
    "\n",
    "def C15_rule(model, i, j, r):\n",
    "    return model.w[i,j,r] + model.w[j,i,r] <= 1\n",
    "model.C15 = Constraint(model.i, model.j, model.r, rule=C15_rule)\n",
    "\n",
    "def C16_rule(model, i, r):\n",
    "    return sum(model.w[i,j,r] for j in model.j) <= 1\n",
    "model.C16 = Constraint(model.i, model.r, rule=C16_rule)\n",
    "\n",
    "def C17_rule(model, j, r):\n",
    "    return sum(model.w[i,j,r] for i in model.i) <= 1\n",
    "model.C17 = Constraint(model.j, model.r, rule=C17_rule)\n",
    "\n",
    "def C18_rule(model, i, h, s):\n",
    "    return model.x[i,h,s]*model.PW[i] <= model.PWC[h] \n",
    "#model.C18 = Constraint(model.i, model.h, model.s, rule=C18_rule)"
   ]
  },
  {
   "cell_type": "code",
   "execution_count": 4,
   "id": "b18f1d7a",
   "metadata": {},
   "outputs": [],
   "source": [
    "# declare objectives\n",
    "model.obj1 = Objective(expr=model.ct, sense=minimize)\n",
    "model.obj2 = Objective(expr=model.mtpw, sense=minimize)\n",
    "\n",
    "# declare solver\n",
    "opt = SolverFactory('glpk')"
   ]
  },
  {
   "cell_type": "code",
   "execution_count": 5,
   "id": "95475cd8",
   "metadata": {},
   "outputs": [],
   "source": [
    "model.obj1.activate()\n",
    "model.obj2.deactivate()"
   ]
  },
  {
   "cell_type": "code",
   "execution_count": 6,
   "id": "855a65bb",
   "metadata": {},
   "outputs": [
    {
     "name": "stdout",
     "output_type": "stream",
     "text": [
      "WARNING: Constructing RangeSet 'i' from non-constant data (e.g., Var or\n",
      "    mutable Param).  The linkage between this RangeSet and the original source\n",
      "    data will be broken, so updating the data value in the future will not be\n",
      "    reflected in this RangeSet.  To suppress this warning, explicitly convert\n",
      "    the source data to a constant type (e.g., float, int, or immutable Param)\n",
      "WARNING: Constructing RangeSet 'h' from non-constant data (e.g., Var or\n",
      "    mutable Param).  The linkage between this RangeSet and the original source\n",
      "    data will be broken, so updating the data value in the future will not be\n",
      "    reflected in this RangeSet.  To suppress this warning, explicitly convert\n",
      "    the source data to a constant type (e.g., float, int, or immutable Param)\n",
      "WARNING: Constructing RangeSet 'c' from non-constant data (e.g., Var or\n",
      "    mutable Param).  The linkage between this RangeSet and the original source\n",
      "    data will be broken, so updating the data value in the future will not be\n",
      "    reflected in this RangeSet.  To suppress this warning, explicitly convert\n",
      "    the source data to a constant type (e.g., float, int, or immutable Param)\n",
      "WARNING: Constructing RangeSet 's' from non-constant data (e.g., Var or\n",
      "    mutable Param).  The linkage between this RangeSet and the original source\n",
      "    data will be broken, so updating the data value in the future will not be\n",
      "    reflected in this RangeSet.  To suppress this warning, explicitly convert\n",
      "    the source data to a constant type (e.g., float, int, or immutable Param)\n"
     ]
    }
   ],
   "source": [
    "instance = model.create_instance('data-small.dat')\n",
    "results = opt.solve(instance)"
   ]
  },
  {
   "cell_type": "code",
   "execution_count": 7,
   "id": "02364dca",
   "metadata": {},
   "outputs": [
    {
     "name": "stdout",
     "output_type": "stream",
     "text": [
      "\n",
      "Problem: \n",
      "- Name: unknown\n",
      "  Lower bound: 11.0\n",
      "  Upper bound: 11.0\n",
      "  Number of objectives: 1\n",
      "  Number of constraints: 615\n",
      "  Number of variables: 239\n",
      "  Number of nonzeros: 3437\n",
      "  Sense: minimize\n",
      "Solver: \n",
      "- Status: ok\n",
      "  Termination condition: optimal\n",
      "  Statistics: \n",
      "    Branch and bound: \n",
      "      Number of bounded subproblems: 100985\n",
      "      Number of created subproblems: 100985\n",
      "  Error rc: 0\n",
      "  Time: 57.91649103164673\n",
      "Solution: \n",
      "- number of solutions: 0\n",
      "  number of solutions displayed: 0\n",
      "\n"
     ]
    }
   ],
   "source": [
    "print(results)"
   ]
  },
  {
   "cell_type": "code",
   "execution_count": 8,
   "id": "c2b9871a",
   "metadata": {},
   "outputs": [
    {
     "data": {
      "text/plain": [
       "11.0"
      ]
     },
     "execution_count": 8,
     "metadata": {},
     "output_type": "execute_result"
    }
   ],
   "source": [
    "value(instance.obj1)"
   ]
  },
  {
   "cell_type": "code",
   "execution_count": 9,
   "id": "3142d1a4",
   "metadata": {},
   "outputs": [
    {
     "name": "stdout",
     "output_type": "stream",
     "text": [
      "Station:  1\n",
      "task:  1  with human:  1  with Task time:  7\n",
      "Station:  2\n",
      "task:  2  with human:  2  with Task time:  2\n",
      "task:  3  with human:  2  with Task time:  6\n",
      "task:  4  with Cobot:  3  with Task time:  6\n",
      "task:  5  with Cobot:  3  with Task time:  3\n",
      "task:  6  with human:  2  with Task time:  1\n",
      "task:  7  with Cobot:  3  with Task time:  2\n"
     ]
    }
   ],
   "source": [
    "for s in instance.s:\n",
    "    print('Station: ',str(s))\n",
    "    for i in instance.i:\n",
    "        SH = 0\n",
    "        SC = 0\n",
    "        H = []\n",
    "        C = []\n",
    "        for h in instance.h:\n",
    "            if value(instance.x[i,h,s]) == 1:\n",
    "                SH += 1\n",
    "                H = h\n",
    "        for c in instance.c:\n",
    "            if value(instance.x[i,c,s]) == 1:\n",
    "                SC += 1\n",
    "                C = c\n",
    "\n",
    "        if (SH == 1) and (SC == 0):\n",
    "            print('task: ',str(i),' with human: ',str(H),' with Task time: ',value(instance.T[i,H]))\n",
    "        elif (SH == 0) and (SC == 1):\n",
    "            print('task: ',str(i),' with Cobot: ',str(C),' with Task time: ',value(instance.T[i,C]))\n",
    "        elif (SH == 1) and (SC == 1):\n",
    "            print('task: ',str(i),' with human: ',str(H),'and Cobot: ',str(C),' with Task time: ',value(instance.Tc[H,C]))"
   ]
  },
  {
   "cell_type": "code",
   "execution_count": 10,
   "id": "5381c0b2",
   "metadata": {},
   "outputs": [
    {
     "name": "stdout",
     "output_type": "stream",
     "text": [
      "11.0\n",
      "11.0\n"
     ]
    }
   ],
   "source": [
    "for s in instance.s:\n",
    "    print(value(instance.ct))"
   ]
  },
  {
   "cell_type": "code",
   "execution_count": 11,
   "id": "df7f81cc",
   "metadata": {},
   "outputs": [
    {
     "name": "stdout",
     "output_type": "stream",
     "text": [
      "task:  1  ST:  0.0  and FT:  7.0\n",
      "task:  2  ST:  7.0  and FT:  9.0\n",
      "task:  3  ST:  9.0  and FT:  15.0\n",
      "task:  4  ST:  7.0  and FT:  13.0\n",
      "task:  5  ST:  13.0  and FT:  16.0\n",
      "task:  6  ST:  15.0  and FT:  16.0\n",
      "task:  7  ST:  16.0  and FT:  18.0\n"
     ]
    }
   ],
   "source": [
    "for i in instance.i:\n",
    "    print('task: ',str(i),' ST: ',value(instance.st[i]),' and FT: ',value(instance.ft[i]) )"
   ]
  },
  {
   "cell_type": "code",
   "execution_count": 12,
   "id": "9f07bee2",
   "metadata": {},
   "outputs": [
    {
     "name": "stdout",
     "output_type": "stream",
     "text": [
      "task:  2  and task: 3 with resource:  2\n",
      "task:  3  and task: 6 with resource:  2\n",
      "task:  4  and task: 5 with resource:  3\n",
      "task:  5  and task: 7 with resource:  3\n"
     ]
    }
   ],
   "source": [
    "for i in instance.i:\n",
    "  for j in instance.j:\n",
    "    for r in instance.r:\n",
    "      if value(instance.w[i,j,r]) == 1:\n",
    "        print('task: ',str(i),' and task:',str(j),'with resource: ',str(r))"
   ]
  },
  {
   "cell_type": "code",
   "execution_count": null,
   "id": "5cb73332",
   "metadata": {},
   "outputs": [],
   "source": []
  }
 ],
 "metadata": {
  "kernelspec": {
   "display_name": "Python 3 (ipykernel)",
   "language": "python",
   "name": "python3"
  },
  "language_info": {
   "codemirror_mode": {
    "name": "ipython",
    "version": 3
   },
   "file_extension": ".py",
   "mimetype": "text/x-python",
   "name": "python",
   "nbconvert_exporter": "python",
   "pygments_lexer": "ipython3",
   "version": "3.9.13"
  }
 },
 "nbformat": 4,
 "nbformat_minor": 5
}
